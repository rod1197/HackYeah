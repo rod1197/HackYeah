{
 "cells": [
  {
   "cell_type": "code",
   "execution_count": 1,
   "metadata": {},
   "outputs": [],
   "source": [
    "import tensorflow.compat.v2 as tf\n",
    "import tensorflow_hub as hub"
   ]
  },
  {
   "cell_type": "markdown",
   "metadata": {},
   "source": [
    "# Import model"
   ]
  },
  {
   "cell_type": "code",
   "execution_count": 8,
   "metadata": {},
   "outputs": [
    {
     "name": "stdout",
     "output_type": "stream",
     "text": [
      "INFO:tensorflow:Saver not created because there are no variables in the graph to restore\n"
     ]
    }
   ],
   "source": [
    "# m = hub.KerasLayer('https://tfhub.dev/google/aiy/vision/classifier/food_V1/1')\n",
    "m = hub.KerasLayer('model')"
   ]
  },
  {
   "cell_type": "markdown",
   "metadata": {},
   "source": [
    "# Image test"
   ]
  },
  {
   "cell_type": "code",
   "execution_count": 9,
   "metadata": {},
   "outputs": [],
   "source": [
    "import numpy as np\n",
    "import pandas as pd\n",
    "import cv2\n",
    "from skimage import io"
   ]
  },
  {
   "cell_type": "code",
   "execution_count": 43,
   "metadata": {},
   "outputs": [],
   "source": [
    "cake_url = \"https://storage.googleapis.com/tfhub-visualizers/google/aiy/vision/classifier/food_V1/1/image_1.jpg\"\n",
    "cake_url = \"https://encrypted-tbn0.gstatic.com/images?q=tbn:ANd9GcRuIH9sRcZwHe7MjnkoU1n-rLUY2IGTAiPBKQ&usqp=CAU\"\n",
    "banana_url = \"https://encrypted-tbn0.gstatic.com/images?q=tbn:ANd9GcQiQCohZJ791tQI_cy_nUeYGgNIMvuQ02q-6A&usqp=CAU\"\n",
    "\n",
    "labelmap_url = \"https://www.gstatic.com/aihub/tfhub/labelmaps/aiy_food_V1_labelmap.csv\"\n",
    "input_shape = (224, 224)"
   ]
  },
  {
   "cell_type": "code",
   "execution_count": 44,
   "metadata": {},
   "outputs": [
    {
     "data": {
      "text/plain": [
       "array([[[ 90.27569508,  55.27569508,  51.27569508],\n",
       "        [ 93.08792206,  58.27051499,  54.20965068],\n",
       "        [ 97.90483651,  61.05582867,  57.67216462],\n",
       "        ...,\n",
       "        [181.97928447, 186.8042206 , 183.25041078],\n",
       "        [160.49843571, 171.07677033, 170.47808197],\n",
       "        [168.086894  , 178.1435438 , 177.25684341]],\n",
       "\n",
       "       [[ 88.89955734,  53.89955734,  49.89955734],\n",
       "        [ 91.67705729,  56.72062148,  52.70610009],\n",
       "        [ 94.81143799,  59.6434368 ,  55.69943719],\n",
       "        ...,\n",
       "        [210.76720191, 215.3270518 , 210.22927684],\n",
       "        [186.45802997, 196.53554517, 194.42364491],\n",
       "        [173.80184283, 183.37904813, 180.99162032]],\n",
       "\n",
       "       [[ 87.07015995,  52.07015995,  48.25304586],\n",
       "        [ 89.05179353,  54.03707407,  50.01955268],\n",
       "        [ 90.93390598,  56.25032602,  52.14485267],\n",
       "        ...,\n",
       "        [228.68333116, 232.80779867, 225.73711755],\n",
       "        [217.29319905, 224.98987613, 221.93749306],\n",
       "        [198.78066801, 206.15343784, 202.73831581]],\n",
       "\n",
       "       ...,\n",
       "\n",
       "       [[157.77592418, 164.49933214, 179.13202454],\n",
       "        [158.97316395, 165.38897213, 180.45411028],\n",
       "        [173.21306825, 181.15438399, 197.84695076],\n",
       "        ...,\n",
       "        [ 48.77591472,  17.91003021,  18.29173505],\n",
       "        [ 48.25846234,  18.82536948,  15.56919111],\n",
       "        [ 48.5236389 ,  18.91221207,  15.9437856 ]],\n",
       "\n",
       "       [[160.38721277, 167.49217062, 184.21714254],\n",
       "        [165.02908414, 172.17942143, 188.70551469],\n",
       "        [174.53079163, 182.96447862, 199.60013663],\n",
       "        ...,\n",
       "        [ 46.61689093,  20.51609648,  22.67707327],\n",
       "        [ 48.61004709,  21.38485235,  18.4753876 ],\n",
       "        [ 48.40733928,  21.23664028,  18.74083967]],\n",
       "\n",
       "       [[158.63691718, 165.61871506, 183.74112074],\n",
       "        [168.33679824, 176.02739679, 193.80192862],\n",
       "        [176.58542638, 185.8007114 , 202.74091966],\n",
       "        ...,\n",
       "        [ 37.76062584,  15.48200852,  18.44136493],\n",
       "        [ 38.31038238,  12.11609511,  10.88704861],\n",
       "        [ 38.32017231,  12.43347692,  11.54678154]]])"
      ]
     },
     "execution_count": 44,
     "metadata": {},
     "output_type": "execute_result"
    }
   ],
   "source": [
    "image = np.asarray(io.imread(cake_url), dtype=\"float\")\n",
    "image = cv2.resize(image, dsize=input_shape, interpolation=cv2.INTER_CUBIC)\n",
    "image"
   ]
  },
  {
   "cell_type": "code",
   "execution_count": 45,
   "metadata": {},
   "outputs": [],
   "source": [
    "# Scale values to [0, 1].\n",
    "image = image / image.max()\n",
    "# The model expects an input of (?, 224, 224, 3).\n",
    "images = np.expand_dims(image, 0)"
   ]
  },
  {
   "cell_type": "code",
   "execution_count": 46,
   "metadata": {},
   "outputs": [],
   "source": [
    "# This assumes you're using TF2.\n",
    "output = m(images)\n",
    "predicted_index = output.numpy().argmax()\n",
    "classes = list(pd.read_csv(labelmap_url)[\"name\"])"
   ]
  },
  {
   "cell_type": "code",
   "execution_count": 47,
   "metadata": {},
   "outputs": [
    {
     "name": "stdout",
     "output_type": "stream",
     "text": [
      "Prediction:  Spaghetti\n"
     ]
    }
   ],
   "source": [
    "print(\"Prediction: \", classes[predicted_index])"
   ]
  },
  {
   "cell_type": "code",
   "execution_count": null,
   "metadata": {},
   "outputs": [],
   "source": []
  }
 ],
 "metadata": {
  "kernelspec": {
   "display_name": "Python 3.8.8 ('darts')",
   "language": "python",
   "name": "python3"
  },
  "language_info": {
   "codemirror_mode": {
    "name": "ipython",
    "version": 3
   },
   "file_extension": ".py",
   "mimetype": "text/x-python",
   "name": "python",
   "nbconvert_exporter": "python",
   "pygments_lexer": "ipython3",
   "version": "3.8.8"
  },
  "orig_nbformat": 4,
  "vscode": {
   "interpreter": {
    "hash": "5a70100286a2f5dc2fd1b2698d10f896bbc051b8f2bf77fe843f3d193c4acc93"
   }
  }
 },
 "nbformat": 4,
 "nbformat_minor": 2
}
